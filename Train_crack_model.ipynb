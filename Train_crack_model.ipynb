{
 "cells": [
  {
   "cell_type": "code",
   "execution_count": 1,
   "id": "ddd753b5",
   "metadata": {},
   "outputs": [
    {
     "name": "stderr",
     "output_type": "stream",
     "text": [
      "2022-08-31 17:23:25.686876: W tensorflow/stream_executor/platform/default/dso_loader.cc:64] Could not load dynamic library 'libcudart.so.11.0'; dlerror: libcudart.so.11.0: cannot open shared object file: No such file or directory\n",
      "2022-08-31 17:23:25.686909: I tensorflow/stream_executor/cuda/cudart_stub.cc:29] Ignore above cudart dlerror if you do not have a GPU set up on your machine.\n"
     ]
    }
   ],
   "source": [
    "# imports \n",
    "import numpy as np \n",
    "import tensorflow as tf\n",
    "from tensorflow import keras \n",
    "from tensorflow.keras.models import Sequential \n",
    "from tensorflow.keras.layers import Activation, Dense, Flatten, BatchNormalization, Conv2D, MaxPool2D\n",
    "from tensorflow.keras.optimizers import Adam\n",
    "from tensorflow.keras.metrics import categorical_crossentropy\n",
    "from tensorflow.keras.preprocessing.image import ImageDataGenerator\n",
    "from sklearn.metrics import confusion_matrix\n",
    "import itertools\n",
    "import os \n",
    "import shutil\n",
    "import random \n",
    "from random import sample \n",
    "import glob\n",
    "import matplotlib.pyplot as plt \n",
    "import warnings\n",
    "warnings.simplefilter(action=\"ignore\", category=FutureWarning)\n",
    "%matplotlib inline\n"
   ]
  },
  {
   "cell_type": "code",
   "execution_count": 2,
   "id": "e1a37fbb",
   "metadata": {},
   "outputs": [],
   "source": [
    "train_path = '/home/d/code/python/crack_detection/road_data/train/'\n",
    "valid_path = '/home/d/code/python/crack_detection/road_data/valid/'\n",
    "test_path = '/home/d/code/python/crack_detection/road_data/test/'"
   ]
  },
  {
   "cell_type": "code",
   "execution_count": 3,
   "id": "abc3e27c",
   "metadata": {},
   "outputs": [],
   "source": [
    "# orgnize data into directories\n",
    "\n",
    "# 1) split into ok and broken \n",
    "fine_data = glob.glob(\"/home/d/code/python/crack_detection/road_trainer/*.fine.jpg\")\n",
    "broken_data = glob.glob(\"/home/d/code/python/crack_detection/road_trainer/*.broken.jpg\")\n",
    "\n",
    "fine_folder = \"/home/d/code/python/crack_detection/road_data/train/fine/\"\n",
    "broken_folder = \"/home/d/code/python/crack_detection/road_data/train/broken/\"\n",
    "validation_folder = \"/home/d/code/python/crack_detection/road_data/valid/\"\n",
    "\n",
    "for image in fine_data:\n",
    "    shutil.move(image, fine_folder)\n",
    "for image in broken_data:\n",
    "    shutil.move(image, broken_folder)"
   ]
  },
  {
   "cell_type": "code",
   "execution_count": 4,
   "id": "5f59650e",
   "metadata": {},
   "outputs": [
    {
     "name": "stdout",
     "output_type": "stream",
     "text": [
      "Found 1025 images belonging to 2 classes.\n",
      "Found 0 images belonging to 2 classes.\n"
     ]
    }
   ],
   "source": [
    "#                                  |  applies some preprocessint images-------------------------------|                    \n",
    "train_batches = ImageDataGenerator(preprocessing_function=tf.keras.applications.vgg16.preprocess_input).flow_from_directory(directory=train_path, target_size=(1000, 668), classes=['broken', 'fine'], batch_size=2)\n",
    "\n",
    "# shuffle is false on test batch, it so it's consistent with preprocessing  \n",
    "test_batches = ImageDataGenerator(preprocessing_function=tf.keras.applications.vgg16.preprocess_input).flow_from_directory(directory=validation_folder, target_size=(1000, 668), classes=['broken', 'fine'], batch_size=2, shuffle=False)"
   ]
  },
  {
   "cell_type": "code",
   "execution_count": 5,
   "id": "aee4daed",
   "metadata": {},
   "outputs": [],
   "source": [
    "imgs, labels = next(train_batches)"
   ]
  },
  {
   "cell_type": "code",
   "execution_count": 6,
   "id": "a0f830f5",
   "metadata": {},
   "outputs": [
    {
     "name": "stderr",
     "output_type": "stream",
     "text": [
      "2022-08-31 17:23:29.328047: I tensorflow/stream_executor/cuda/cuda_gpu_executor.cc:975] successful NUMA node read from SysFS had negative value (-1), but there must be at least one NUMA node, so returning NUMA node zero\n",
      "2022-08-31 17:23:29.328795: W tensorflow/stream_executor/platform/default/dso_loader.cc:64] Could not load dynamic library 'libcudart.so.11.0'; dlerror: libcudart.so.11.0: cannot open shared object file: No such file or directory\n",
      "2022-08-31 17:23:29.329260: W tensorflow/stream_executor/platform/default/dso_loader.cc:64] Could not load dynamic library 'libcublas.so.11'; dlerror: libcublas.so.11: cannot open shared object file: No such file or directory\n",
      "2022-08-31 17:23:29.329538: W tensorflow/stream_executor/platform/default/dso_loader.cc:64] Could not load dynamic library 'libcublasLt.so.11'; dlerror: libcublasLt.so.11: cannot open shared object file: No such file or directory\n",
      "2022-08-31 17:23:29.329905: W tensorflow/stream_executor/platform/default/dso_loader.cc:64] Could not load dynamic library 'libcufft.so.10'; dlerror: libcufft.so.10: cannot open shared object file: No such file or directory\n",
      "2022-08-31 17:23:29.330129: W tensorflow/stream_executor/platform/default/dso_loader.cc:64] Could not load dynamic library 'libcurand.so.10'; dlerror: libcurand.so.10: cannot open shared object file: No such file or directory\n",
      "2022-08-31 17:23:29.330197: W tensorflow/stream_executor/platform/default/dso_loader.cc:64] Could not load dynamic library 'libcusolver.so.11'; dlerror: libcusolver.so.11: cannot open shared object file: No such file or directory\n",
      "2022-08-31 17:23:29.330399: W tensorflow/stream_executor/platform/default/dso_loader.cc:64] Could not load dynamic library 'libcusparse.so.11'; dlerror: libcusparse.so.11: cannot open shared object file: No such file or directory\n",
      "2022-08-31 17:23:29.330598: W tensorflow/stream_executor/platform/default/dso_loader.cc:64] Could not load dynamic library 'libcudnn.so.8'; dlerror: libcudnn.so.8: cannot open shared object file: No such file or directory\n",
      "2022-08-31 17:23:29.330609: W tensorflow/core/common_runtime/gpu/gpu_device.cc:1850] Cannot dlopen some GPU libraries. Please make sure the missing libraries mentioned above are installed properly if you would like to use GPU. Follow the guide at https://www.tensorflow.org/install/gpu for how to download and setup the required libraries for your platform.\n",
      "Skipping registering GPU devices...\n",
      "2022-08-31 17:23:29.331755: I tensorflow/core/platform/cpu_feature_guard.cc:193] This TensorFlow binary is optimized with oneAPI Deep Neural Network Library (oneDNN) to use the following CPU instructions in performance-critical operations:  AVX2 FMA\n",
      "To enable them in other operations, rebuild TensorFlow with the appropriate compiler flags.\n"
     ]
    }
   ],
   "source": [
    "model = Sequential([\n",
    "    Conv2D(filters=32, kernel_size=(3,3), activation='relu', padding='same', input_shape=(1000, 668, 3)),\n",
    "    MaxPool2D(pool_size=(2,2), strides=2), \n",
    "    Conv2D(filters=64, kernel_size=(3,3), activation='relu', padding='same' ),\n",
    "    MaxPool2D(pool_size=(2,2), strides=2),\n",
    "    Flatten(),\n",
    "    Dense(units=2, activation='softmax')])"
   ]
  },
  {
   "cell_type": "code",
   "execution_count": 7,
   "id": "ffae276b",
   "metadata": {},
   "outputs": [],
   "source": [
    "model.compile(optimizer=Adam(learning_rate=0.0001), loss='categorical_crossentropy', metrics=[\"accuracy\"])"
   ]
  },
  {
   "cell_type": "code",
   "execution_count": null,
   "id": "cab9fe51",
   "metadata": {},
   "outputs": [
    {
     "name": "stdout",
     "output_type": "stream",
     "text": [
      "Epoch 1/10\n"
     ]
    },
    {
     "name": "stderr",
     "output_type": "stream",
     "text": [
      "2022-08-31 17:23:30.628871: W tensorflow/core/framework/cpu_allocator_impl.cc:82] Allocation of 192384000 exceeds 10% of free system memory.\n",
      "2022-08-31 17:23:30.631967: W tensorflow/core/framework/cpu_allocator_impl.cc:82] Allocation of 192384000 exceeds 10% of free system memory.\n",
      "2022-08-31 17:23:31.655607: W tensorflow/core/framework/cpu_allocator_impl.cc:82] Allocation of 192384000 exceeds 10% of free system memory.\n",
      "2022-08-31 17:23:31.657791: W tensorflow/core/framework/cpu_allocator_impl.cc:82] Allocation of 192384000 exceeds 10% of free system memory.\n",
      "2022-08-31 17:23:32.710410: W tensorflow/core/framework/cpu_allocator_impl.cc:82] Allocation of 192384000 exceeds 10% of free system memory.\n"
     ]
    }
   ],
   "source": [
    "model.fit(x=train_batches, epochs=10, verbose=2)"
   ]
  },
  {
   "cell_type": "code",
   "execution_count": null,
   "id": "5bd8be2f",
   "metadata": {},
   "outputs": [],
   "source": [
    "model.save(\"crack_detector.h5\")"
   ]
  }
 ],
 "metadata": {
  "kernelspec": {
   "display_name": "Python 3 (ipykernel)",
   "language": "python",
   "name": "python3"
  },
  "language_info": {
   "codemirror_mode": {
    "name": "ipython",
    "version": 3
   },
   "file_extension": ".py",
   "mimetype": "text/x-python",
   "name": "python",
   "nbconvert_exporter": "python",
   "pygments_lexer": "ipython3",
   "version": "3.9.13"
  }
 },
 "nbformat": 4,
 "nbformat_minor": 5
}
